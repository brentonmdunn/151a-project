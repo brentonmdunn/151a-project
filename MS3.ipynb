{
 "cells": [
  {
   "cell_type": "markdown",
   "metadata": {
    "id": "t8VbVcjdRyfh"
   },
   "source": [
    "Instructions:\n",
    "- Perform the data exploration step (i.e. evaluate your data, # of observations, details about your data distributions, scales, missing data, column descriptions) Note: For image data you can still describe your data by the number of classes, # of images, plot example classes of the image, size of images, are sizes uniform? Do they need to be cropped? normalized? etc.\n",
    "- Plot your data. For tabular data, you will need to run scatters, for image data, you will need to plot your example classes.\n",
    "- How will you preprocess your data? You should explain this in your README.md file and link your Jupyter notebook to it. All code and  Jupyter notebooks have be uploaded to your repo."
   ]
  },
  {
   "cell_type": "code",
   "execution_count": 1,
   "metadata": {
    "colab": {
     "base_uri": "https://localhost:8080/"
    },
    "id": "MUgD8HwpMk8a",
    "outputId": "c4aca64d-afe7-4d99-9427-b6cb2e01c450"
   },
   "outputs": [
    {
     "name": "stdout",
     "output_type": "stream",
     "text": [
      "Requirement already satisfied: pandas in /opt/anaconda3/lib/python3.11/site-packages (2.2.2)\n",
      "Requirement already satisfied: numpy>=1.23.2 in /opt/anaconda3/lib/python3.11/site-packages (from pandas) (1.26.4)\n",
      "Requirement already satisfied: python-dateutil>=2.8.2 in /opt/anaconda3/lib/python3.11/site-packages (from pandas) (2.8.2)\n",
      "Requirement already satisfied: pytz>=2020.1 in /opt/anaconda3/lib/python3.11/site-packages (from pandas) (2023.3.post1)\n",
      "Requirement already satisfied: tzdata>=2022.7 in /opt/anaconda3/lib/python3.11/site-packages (from pandas) (2023.3)\n",
      "Requirement already satisfied: six>=1.5 in /opt/anaconda3/lib/python3.11/site-packages (from python-dateutil>=2.8.2->pandas) (1.16.0)\n",
      "Requirement already satisfied: opendatasets in /opt/anaconda3/lib/python3.11/site-packages (0.1.22)\n",
      "Requirement already satisfied: tqdm in /opt/anaconda3/lib/python3.11/site-packages (from opendatasets) (4.65.0)\n",
      "Requirement already satisfied: kaggle in /opt/anaconda3/lib/python3.11/site-packages (from opendatasets) (1.6.17)\n",
      "Requirement already satisfied: click in /opt/anaconda3/lib/python3.11/site-packages (from opendatasets) (8.1.7)\n",
      "Requirement already satisfied: six>=1.10 in /opt/anaconda3/lib/python3.11/site-packages (from kaggle->opendatasets) (1.16.0)\n",
      "Requirement already satisfied: certifi>=2023.7.22 in /opt/anaconda3/lib/python3.11/site-packages (from kaggle->opendatasets) (2024.8.30)\n",
      "Requirement already satisfied: python-dateutil in /opt/anaconda3/lib/python3.11/site-packages (from kaggle->opendatasets) (2.8.2)\n",
      "Requirement already satisfied: requests in /opt/anaconda3/lib/python3.11/site-packages (from kaggle->opendatasets) (2.31.0)\n",
      "Requirement already satisfied: python-slugify in /opt/anaconda3/lib/python3.11/site-packages (from kaggle->opendatasets) (5.0.2)\n",
      "Requirement already satisfied: urllib3 in /opt/anaconda3/lib/python3.11/site-packages (from kaggle->opendatasets) (2.0.7)\n",
      "Requirement already satisfied: bleach in /opt/anaconda3/lib/python3.11/site-packages (from kaggle->opendatasets) (4.1.0)\n",
      "Requirement already satisfied: packaging in /opt/anaconda3/lib/python3.11/site-packages (from bleach->kaggle->opendatasets) (23.1)\n",
      "Requirement already satisfied: webencodings in /opt/anaconda3/lib/python3.11/site-packages (from bleach->kaggle->opendatasets) (0.5.1)\n",
      "Requirement already satisfied: text-unidecode>=1.3 in /opt/anaconda3/lib/python3.11/site-packages (from python-slugify->kaggle->opendatasets) (1.3)\n",
      "Requirement already satisfied: charset-normalizer<4,>=2 in /opt/anaconda3/lib/python3.11/site-packages (from requests->kaggle->opendatasets) (2.0.4)\n",
      "Requirement already satisfied: idna<4,>=2.5 in /opt/anaconda3/lib/python3.11/site-packages (from requests->kaggle->opendatasets) (3.4)\n",
      "Requirement already satisfied: Pillow in /opt/anaconda3/lib/python3.11/site-packages (10.2.0)\n"
     ]
    }
   ],
   "source": [
    "!pip install pandas\n",
    "!pip install opendatasets\n",
    "!pip install Pillow"
   ]
  },
  {
   "cell_type": "code",
   "execution_count": 2,
   "metadata": {
    "colab": {
     "base_uri": "https://localhost:8080/"
    },
    "id": "ij9kN1HeMZMK",
    "outputId": "a8573a36-ae63-4cc9-ba71-ee8c9c94d9f9"
   },
   "outputs": [],
   "source": [
    "\n",
    "# import opendatasets as od\n",
    "# import pandas as pd\n",
    "\n",
    "# od.download(\n",
    "#     \"https://www.kaggle.com/datasets/kacpergregorowicz/house-plant-species\")"
   ]
  },
  {
   "cell_type": "markdown",
   "metadata": {
    "id": "PYhoJkZDwqLB"
   },
   "source": [
    "### Import Necessary Libraries"
   ]
  },
  {
   "cell_type": "code",
   "execution_count": 2,
   "metadata": {
    "id": "sjDh5awtSYkG"
   },
   "outputs": [],
   "source": [
    "import os\n",
    "from PIL import Image, ImageOps\n",
    "import numpy as np\n",
    "import pandas as pd\n",
    "import random\n",
    "from torchvision import transforms\n",
    "from tqdm import tqdm\n",
    "from sklearn.preprocessing import LabelEncoder\n",
    "import matplotlib.pyplot as plt"
   ]
  },
  {
   "cell_type": "markdown",
   "metadata": {
    "id": "zmcga_23BJoe"
   },
   "source": [
    "#Data Exploration"
   ]
  },
  {
   "cell_type": "markdown",
   "metadata": {
    "id": "DTSU9Dj0ITpC"
   },
   "source": [
    "### Column Descriptions"
   ]
  },
  {
   "cell_type": "code",
   "execution_count": 3,
   "metadata": {
    "colab": {
     "base_uri": "https://localhost:8080/"
    },
    "id": "bckx-Ca8IWGN",
    "outputId": "cf038b03-7c03-4efa-cf17-93c44e3f8cf1"
   },
   "outputs": [
    {
     "name": "stdout",
     "output_type": "stream",
     "text": [
      "                                           file_path  \\\n",
      "0  house-plant-species/house_plant_species/Jade p...   \n",
      "1  house-plant-species/house_plant_species/Jade p...   \n",
      "2  house-plant-species/house_plant_species/Jade p...   \n",
      "3  house-plant-species/house_plant_species/Jade p...   \n",
      "4  house-plant-species/house_plant_species/Jade p...   \n",
      "\n",
      "                       species  \n",
      "0  Jade plant (Crassula ovata)  \n",
      "1  Jade plant (Crassula ovata)  \n",
      "2  Jade plant (Crassula ovata)  \n",
      "3  Jade plant (Crassula ovata)  \n",
      "4  Jade plant (Crassula ovata)  \n"
     ]
    }
   ],
   "source": [
    "# Set paths\n",
    "data_dir = 'house-plant-species/house_plant_species/'  # Path where images are stored in subfolders by category\n",
    "output_dir = 'processed_images/'    # Directory to save processed images by category\n",
    "os.makedirs(output_dir, exist_ok=True)\n",
    "\n",
    "# Create dataframe for plant categories\n",
    "\n",
    "# Initialize a list to hold file paths and labels\n",
    "file_paths = []\n",
    "labels = []\n",
    "\n",
    "# Loop through each category folder\n",
    "for category in os.listdir(data_dir):\n",
    "    category_path = os.path.join(data_dir, category)\n",
    "\n",
    "    # Check if it's a directory\n",
    "    if os.path.isdir(category_path):\n",
    "        for img_file in os.listdir(category_path):\n",
    "            file_paths.append(os.path.join(category_path, img_file))  # Full path to the image\n",
    "            labels.append(category)  # Folder name is the label\n",
    "\n",
    "# Create the DataFrame\n",
    "labels_df = pd.DataFrame({\n",
    "    'file_path': file_paths,\n",
    "    'species': labels\n",
    "})\n",
    "\n",
    "print(labels_df.head())"
   ]
  },
  {
   "cell_type": "markdown",
   "metadata": {
    "id": "-B9nwVEHKTp-"
   },
   "source": [
    "The file_path column holds the full file path to each image in the dataset. The species column corresponds to the species of each plant image. The species names are derived from the folder name containing the image, and serves as the label."
   ]
  },
  {
   "cell_type": "markdown",
   "metadata": {
    "id": "OrHJBDBNGC7D"
   },
   "source": [
    "### Attributes of Dataset"
   ]
  },
  {
   "cell_type": "code",
   "execution_count": 4,
   "metadata": {
    "colab": {
     "base_uri": "https://localhost:8080/"
    },
    "id": "J_MYbiDREueT",
    "outputId": "dd01c1b1-3375-44b6-efa9-e13240760321"
   },
   "outputs": [
    {
     "name": "stdout",
     "output_type": "stream",
     "text": [
      "species\n",
      "Monstera Deliciosa (Monstera deliciosa)       547\n",
      "Dumb Cane (Dieffenbachia spp.)                541\n",
      "Chinese evergreen (Aglaonema)                 514\n",
      "Lilium (Hemerocallis)                         480\n",
      "Anthurium (Anthurium andraeanum)              455\n",
      "ZZ Plant (Zamioculcas zamiifolia)             438\n",
      "Daffodils (Narcissus spp.)                    421\n",
      "Lily of the valley (Convallaria majalis)      416\n",
      "Prayer Plant (Maranta leuconeura)             400\n",
      "Snake plant (Sanseviera)                      396\n",
      "Peace lily                                    385\n",
      "Chinese Money Plant (Pilea peperomioides)     382\n",
      "Money Tree (Pachira aquatica)                 359\n",
      "Jade plant (Crassula ovata)                   353\n",
      "Ctenanthe                                     347\n",
      "Tulip                                         341\n",
      "Tradescantia                                  341\n",
      "Polka Dot Plant (Hypoestes phyllostachya)     341\n",
      "African Violet (Saintpaulia ionantha)         337\n",
      "Elephant Ear (Alocasia spp.)                  332\n",
      "Calathea                                      330\n",
      "Parlor Palm (Chamaedorea elegans)             329\n",
      "Schefflera                                    326\n",
      "Hyacinth (Hyacinthus orientalis)              318\n",
      "Rattlesnake Plant (Calathea lancifolia)       316\n",
      "Christmas Cactus (Schlumbergera bridgesii)    312\n",
      "Boston Fern (Nephrolepis exaltata)            307\n",
      "Poinsettia (Euphorbia pulcherrima)            306\n",
      "Rubber Plant (Ficus elastica)                 291\n",
      "Birds Nest Fern (Asplenium nidus)             290\n",
      "Cast Iron Plant (Aspidistra elatior)          266\n",
      "Iron Cross begonia (Begonia masoniana)        266\n",
      "Dracaena                                      261\n",
      "Aloe Vera                                     252\n",
      "Pothos (Ivy arum)                             243\n",
      "English Ivy (Hedera helix)                    240\n",
      "Begonia (Begonia spp.)                        236\n",
      "Orchid                                        234\n",
      "Chrysanthemum                                 209\n",
      "Sago Palm (Cycas revoluta)                    202\n",
      "Venus Flytrap                                 199\n",
      "Ponytail Palm (Beaucarnea recurvata)          197\n",
      "Areca Palm (Dypsis lutescens)                 189\n",
      "Bird of Paradise (Strelitzia reginae)         180\n",
      "Asparagus Fern (Asparagus setaceus)           169\n",
      "Kalanchoe                                     130\n",
      "Yucca                                          66\n",
      "Total number of images: 14790\n",
      "Total number of classes (species): 47\n"
     ]
    }
   ],
   "source": [
    "# Count the number of images per species\n",
    "species_counts = labels_df['species'].value_counts()\n",
    "print(species_counts.to_string())\n",
    "\n",
    "# Total number of images\n",
    "total_images = labels_df.shape[0]\n",
    "\n",
    "# Total number of unique classes (species)\n",
    "total_classes = labels_df['species'].nunique()\n",
    "\n",
    "print(f\"Total number of images: {total_images}\")\n",
    "print(f\"Total number of classes (species): {total_classes}\")"
   ]
  },
  {
   "cell_type": "markdown",
   "metadata": {
    "id": "DS_B8Cqo-9i2"
   },
   "source": [
    "### Check for Corrupted Files"
   ]
  },
  {
   "cell_type": "code",
   "execution_count": 5,
   "metadata": {
    "colab": {
     "base_uri": "https://localhost:8080/"
    },
    "id": "D02wMVIS_HUT",
    "outputId": "bc1c083c-9812-4e30-d724-2b5f63d2d935"
   },
   "outputs": [
    {
     "name": "stdout",
     "output_type": "stream",
     "text": [
      "Corrupted Files: []\n"
     ]
    }
   ],
   "source": [
    "def check_images(directory):\n",
    "    corrupted_files = []\n",
    "\n",
    "    for subdir, dirs, files in os.walk(directory):\n",
    "        for file in files:\n",
    "            if file.lower().endswith(('.png', '.jpg', '.jpeg', '.bmp', '.gif')):\n",
    "                file_path = os.path.join(subdir, file)\n",
    "                # Check if the image can be opened\n",
    "                try:\n",
    "                    img = Image.open(file_path)\n",
    "                    img.verify()  # Verify that it is, in fact, an image\n",
    "                except (IOError, SyntaxError) as e:\n",
    "                    corrupted_files.append(file_path)\n",
    "                    print(f\"Corrupted file: {file_path}\")\n",
    "\n",
    "    return corrupted_files\n",
    "\n",
    "# Specify the root directory of your image dataset\n",
    "base_dir = 'house-plant-species/house_plant_species'\n",
    "corrupted = check_images(base_dir)\n",
    "\n",
    "print(\"Corrupted Files:\", corrupted)\n"
   ]
  },
  {
   "cell_type": "markdown",
   "metadata": {
    "id": "qVCGPoGQHOa0"
   },
   "source": [
    "### Image Sizes"
   ]
  },
  {
   "cell_type": "code",
   "execution_count": 8,
   "metadata": {
    "colab": {
     "base_uri": "https://localhost:8080/"
    },
    "id": "Wm-6mydrHUDG",
    "outputId": "e90787d0-61ef-4ba7-ef7f-799b077cb708"
   },
   "outputs": [
    {
     "name": "stdout",
     "output_type": "stream",
     "text": [
      "Images have varying sizes.\n"
     ]
    }
   ],
   "source": [
    "def check_image_sizes(df):\n",
    "    sizes = []\n",
    "\n",
    "    # Loop through each image path in the DataFrame\n",
    "    for img_path in df['file_path']:\n",
    "        with Image.open(img_path) as img:\n",
    "            sizes.append(img.size)  # (width, height)\n",
    "\n",
    "    # Convert to a set to get unique sizes\n",
    "    unique_sizes = set(sizes)\n",
    "\n",
    "    if len(unique_sizes) == 1:\n",
    "        print(\"All images are uniform in size:\", unique_sizes.pop())\n",
    "    else:\n",
    "        print(\"Images have varying sizes.\")\n",
    "        # Removed so GitHub preview works\n",
    "        # print(\"Unique sizes:\", unique_sizes)\n",
    "\n",
    "# Check if images are uniform in size\n",
    "check_image_sizes(labels_df)"
   ]
  },
  {
   "cell_type": "markdown",
   "metadata": {
    "id": "ZVU3PgomKnjD"
   },
   "source": [
    "### Example Classes"
   ]
  },
  {
   "cell_type": "code",
   "execution_count": 7,
   "metadata": {
    "colab": {
     "base_uri": "https://localhost:8080/",
     "height": 1000
    },
    "id": "zKg_3y3qK1mV",
    "outputId": "cb0c2f14-247a-4d2a-b344-446df90d5232"
   },
   "outputs": [],
   "source": [
    "def plot_example_images(df, num_classes=5, images_per_class=3):\n",
    "    # Select the unique species (classes) and limit to num_classes if specified\n",
    "    classes = df['species'].unique()[:num_classes]\n",
    "\n",
    "    plt.figure(figsize=(15, 3 * num_classes))  # Adjust figure size to fit the number of rows\n",
    "\n",
    "    # Loop through each class and plot a few example images\n",
    "    for i, species in enumerate(classes):\n",
    "        # Filter DataFrame for the current species and get a sample of images\n",
    "        sample_images = df[df['species'] == species].sample(images_per_class)['file_path']\n",
    "\n",
    "        for j, img_path in enumerate(sample_images):\n",
    "            # Calculate subplot index\n",
    "            plt_idx = i * images_per_class + j + 1\n",
    "            plt.subplot(num_classes, images_per_class, plt_idx)\n",
    "\n",
    "            # Open and display the image\n",
    "            img = Image.open(img_path)\n",
    "            plt.imshow(img)\n",
    "            plt.axis('off')\n",
    "\n",
    "            # Add species label as title once per row\n",
    "            if j == 1:\n",
    "                plt.title(species, fontsize=10, fontweight='bold')\n",
    "\n",
    "    plt.tight_layout()\n",
    "    plt.show()\n",
    "# Removed so GitHub preview works\n",
    "# Plot 3 images for each of the example classes (adjust num_classes as needed)\n",
    "# plot_example_images(labels_df, num_classes=47, images_per_class=3)"
   ]
  },
  {
   "cell_type": "markdown",
   "metadata": {
    "id": "UdYAymN1VTON"
   },
   "source": [
    "## EDA"
   ]
  },
  {
   "cell_type": "markdown",
   "metadata": {
    "id": "Uiyb-_SuRSy3"
   },
   "source": [
    "# Preprocessing Images"
   ]
  },
  {
   "cell_type": "markdown",
   "metadata": {
    "id": "PHoI-mIVw9HC"
   },
   "source": [
    "### Remove Corrupted Images"
   ]
  },
  {
   "cell_type": "code",
   "execution_count": 9,
   "metadata": {
    "colab": {
     "base_uri": "https://localhost:8080/"
    },
    "id": "_6axWvOoxAvJ",
    "outputId": "dc516209-5f06-42fd-d997-5ccc9e4d64f9"
   },
   "outputs": [
    {
     "name": "stderr",
     "output_type": "stream",
     "text": [
      "  0%|          | 0/353 [00:00<?, ?it/s]"
     ]
    },
    {
     "name": "stderr",
     "output_type": "stream",
     "text": [
      "100%|██████████| 353/353 [00:00<00:00, 1806.49it/s]\n",
      "100%|██████████| 291/291 [00:00<00:00, 2747.48it/s]\n",
      "100%|██████████| 326/326 [00:00<00:00, 2446.44it/s]\n",
      "100%|██████████| 189/189 [00:00<00:00, 1216.71it/s]\n",
      "100%|██████████| 169/169 [00:00<00:00, 2945.65it/s]\n",
      "100%|██████████| 266/266 [00:00<00:00, 3195.12it/s]\n",
      "100%|██████████| 416/416 [00:00<00:00, 2093.35it/s]\n",
      "100%|██████████| 400/400 [00:00<00:00, 4297.70it/s]\n",
      "100%|██████████| 261/261 [00:00<00:00, 3695.00it/s]\n",
      "100%|██████████| 252/252 [00:00<00:00, 3870.86it/s]\n",
      "100%|██████████| 236/236 [00:00<00:00, 4349.20it/s]\n",
      "100%|██████████| 130/130 [00:00<00:00, 3417.10it/s]\n",
      "100%|██████████| 480/480 [00:00<00:00, 4096.43it/s]\n",
      "100%|██████████| 243/243 [00:00<00:00, 2382.10it/s]\n",
      "100%|██████████| 341/341 [00:00<00:00, 2821.17it/s]\n",
      "100%|██████████| 66/66 [00:00<00:00, 4467.57it/s]\n",
      "100%|██████████| 541/541 [00:00<00:00, 2606.26it/s]\n",
      "100%|██████████| 421/421 [00:00<00:00, 3846.85it/s]\n",
      "100%|██████████| 332/332 [00:00<00:00, 3501.52it/s]\n",
      "100%|██████████| 306/306 [00:00<00:00, 3877.58it/s]\n",
      "100%|██████████| 330/330 [00:00<00:00, 3517.83it/s]\n",
      "100%|██████████| 547/547 [00:00<00:00, 3527.03it/s]\n",
      "100%|██████████| 318/318 [00:00<00:00, 3601.27it/s]\n",
      "100%|██████████| 202/202 [00:00<00:00, 2685.55it/s]\n",
      "100%|██████████| 209/209 [00:00<00:00, 2270.11it/s]\n",
      "100%|██████████| 197/197 [00:00<00:00, 2852.22it/s]\n",
      "100%|██████████| 455/455 [00:00<00:00, 4774.05it/s]\n",
      "100%|██████████| 341/341 [00:00<00:00, 3872.06it/s]\n",
      "100%|██████████| 382/382 [00:00<00:00, 4245.25it/s]\n",
      "100%|██████████| 514/514 [00:00<00:00, 3557.52it/s]\n",
      "100%|██████████| 341/341 [00:00<00:00, 4363.80it/s]\n",
      "100%|██████████| 329/329 [00:00<00:00, 3254.49it/s]\n",
      "100%|██████████| 385/385 [00:00<00:00, 3080.99it/s]\n",
      "100%|██████████| 438/438 [00:00<00:00, 4335.13it/s]\n",
      "100%|██████████| 199/199 [00:00<00:00, 4073.45it/s]\n",
      "100%|██████████| 312/312 [00:00<00:00, 3642.95it/s]\n",
      "100%|██████████| 316/316 [00:00<00:00, 4089.55it/s]\n",
      "100%|██████████| 359/359 [00:00<00:00, 2924.93it/s]\n",
      "100%|██████████| 307/307 [00:00<00:00, 3235.67it/s]\n",
      "100%|██████████| 266/266 [00:00<00:00, 4154.31it/s]\n",
      "100%|██████████| 234/234 [00:00<00:00, 4463.10it/s]\n",
      "100%|██████████| 337/337 [00:00<00:00, 4427.21it/s]\n",
      "100%|██████████| 347/347 [00:00<00:00, 3172.25it/s]\n",
      "100%|██████████| 396/396 [00:00<00:00, 3433.48it/s]\n",
      "100%|██████████| 180/180 [00:00<00:00, 3711.55it/s]\n",
      "100%|██████████| 240/240 [00:00<00:00, 3540.03it/s]\n",
      "100%|██████████| 290/290 [00:00<00:00, 3704.54it/s]\n"
     ]
    }
   ],
   "source": [
    "def remove_corrupted_images(data_dir):\n",
    "    for category in os.listdir(data_dir):\n",
    "        category_path = os.path.join(data_dir, category)\n",
    "        if os.path.isdir(category_path):\n",
    "            for img_file in tqdm(os.listdir(category_path)):\n",
    "                img_path = os.path.join(category_path, img_file)\n",
    "                try:\n",
    "                    with Image.open(img_path) as img:\n",
    "                        img.verify()  # Check if the image can be opened\n",
    "                except (IOError, SyntaxError):\n",
    "                    os.remove(img_path)\n",
    "                    print(f'Removed corrupted image: {img_file} in {category} folder')\n",
    "\n",
    "remove_corrupted_images(data_dir)"
   ]
  },
  {
   "cell_type": "markdown",
   "metadata": {
    "id": "hHnuKNt8wwgw"
   },
   "source": [
    "### Resize Images and Convert to a Consistent Format"
   ]
  },
  {
   "cell_type": "code",
   "execution_count": 10,
   "metadata": {
    "colab": {
     "base_uri": "https://localhost:8080/"
    },
    "id": "DiTKhzFuyAzZ",
    "outputId": "889cd401-77fb-41dd-b189-c173d04d02e4"
   },
   "outputs": [
    {
     "name": "stdout",
     "output_type": "stream",
     "text": [
      "Unique image types in the dataset: {'', '.webp', '.gif', '.png', '.jpe', '.jpeg', '.jfif', '.jpg'}\n"
     ]
    }
   ],
   "source": [
    "# Check to see what image types we have in the original data\n",
    "image_types = set()\n",
    "\n",
    "# Traverse each subfolder and collect unique file extensions\n",
    "for root, _, files in os.walk(data_dir):\n",
    "    for file in files:\n",
    "        # Get the file extension\n",
    "        ext = os.path.splitext(file)[1].lower()  # Convert to lowercase for consistency\n",
    "        image_types.add(ext)\n",
    "\n",
    "print(\"Unique image types in the dataset:\", image_types)"
   ]
  },
  {
   "cell_type": "code",
   "execution_count": 11,
   "metadata": {
    "colab": {
     "base_uri": "https://localhost:8080/"
    },
    "id": "gonovCqWTVt3",
    "outputId": "a86bef30-fcfe-404b-d4df-6d1e5a64c152"
   },
   "outputs": [
    {
     "name": "stderr",
     "output_type": "stream",
     "text": [
      "100%|██████████| 353/353 [00:14<00:00, 23.84it/s]\n",
      "100%|██████████| 291/291 [00:12<00:00, 23.10it/s]\n",
      "100%|██████████| 326/326 [00:14<00:00, 22.81it/s]\n",
      "100%|██████████| 189/189 [00:06<00:00, 27.53it/s]\n",
      "100%|██████████| 169/169 [00:04<00:00, 38.53it/s]\n",
      "100%|██████████| 266/266 [00:08<00:00, 31.96it/s]\n",
      "100%|██████████| 416/416 [00:12<00:00, 33.20it/s]\n",
      "100%|██████████| 400/400 [00:17<00:00, 23.41it/s]\n",
      "100%|██████████| 261/261 [00:11<00:00, 23.50it/s]\n",
      "100%|██████████| 252/252 [00:09<00:00, 26.86it/s]\n",
      "100%|██████████| 236/236 [00:11<00:00, 19.93it/s]\n",
      "100%|██████████| 130/130 [00:04<00:00, 32.11it/s]\n",
      "100%|██████████| 480/480 [00:17<00:00, 28.23it/s]\n",
      "100%|██████████| 243/243 [00:08<00:00, 27.47it/s]\n",
      "100%|██████████| 341/341 [00:10<00:00, 31.06it/s]\n",
      "100%|██████████| 66/66 [00:02<00:00, 29.29it/s]\n",
      "100%|██████████| 541/541 [00:20<00:00, 26.02it/s]\n",
      "100%|██████████| 421/421 [00:14<00:00, 28.48it/s]\n",
      "100%|██████████| 332/332 [00:11<00:00, 29.06it/s]\n",
      "100%|██████████| 306/306 [00:12<00:00, 24.65it/s]\n",
      "100%|██████████| 330/330 [00:14<00:00, 23.55it/s]\n",
      "100%|██████████| 547/547 [00:24<00:00, 22.78it/s]\n",
      "100%|██████████| 318/318 [00:08<00:00, 37.02it/s]\n",
      "100%|██████████| 202/202 [00:07<00:00, 28.47it/s]\n",
      "100%|██████████| 209/209 [00:07<00:00, 26.15it/s]\n",
      "100%|██████████| 197/197 [00:07<00:00, 27.37it/s]\n",
      "100%|██████████| 455/455 [00:14<00:00, 32.40it/s]\n",
      "100%|██████████| 341/341 [00:11<00:00, 29.48it/s]\n",
      "100%|██████████| 382/382 [00:14<00:00, 25.85it/s]\n",
      "100%|██████████| 514/514 [00:22<00:00, 22.48it/s]\n",
      "100%|██████████| 341/341 [00:13<00:00, 25.72it/s]\n",
      "100%|██████████| 329/329 [00:12<00:00, 25.39it/s]\n",
      "100%|██████████| 385/385 [00:11<00:00, 32.66it/s]\n",
      "100%|██████████| 438/438 [00:14<00:00, 29.38it/s]\n",
      "100%|██████████| 199/199 [00:06<00:00, 31.45it/s]\n",
      "100%|██████████| 312/312 [00:10<00:00, 30.23it/s]\n",
      "100%|██████████| 316/316 [00:11<00:00, 27.42it/s]\n",
      "100%|██████████| 359/359 [00:12<00:00, 29.14it/s]\n",
      "100%|██████████| 307/307 [00:11<00:00, 26.45it/s]\n",
      "100%|██████████| 266/266 [00:10<00:00, 25.90it/s]\n",
      "100%|██████████| 234/234 [00:10<00:00, 21.72it/s]\n",
      "100%|██████████| 337/337 [00:12<00:00, 26.92it/s]\n",
      "100%|██████████| 347/347 [00:13<00:00, 25.33it/s]\n",
      "100%|██████████| 396/396 [00:18<00:00, 20.87it/s]\n",
      "100%|██████████| 180/180 [00:04<00:00, 40.64it/s]\n",
      "100%|██████████| 240/240 [00:07<00:00, 32.35it/s]\n",
      "100%|██████████| 290/290 [00:10<00:00, 26.36it/s]\n"
     ]
    }
   ],
   "source": [
    "def resize(data_dir, output_dir, size=(224, 224), format='JPEG'):\n",
    "    accepted_types = {'.jpg', '.jpe', '.gif', '.jpeg', '.jfif', '.png', '.webp'}\n",
    "\n",
    "    for category in os.listdir(data_dir):\n",
    "        category_path = os.path.join(data_dir, category)\n",
    "        output_category_path = os.path.join(output_dir, category)\n",
    "        os.makedirs(output_category_path, exist_ok=True)\n",
    "\n",
    "        if os.path.isdir(category_path):\n",
    "            for img_file in tqdm(os.listdir(category_path)):\n",
    "                ext = os.path.splitext(img_file)[1].lower()\n",
    "\n",
    "                if ext in accepted_types:\n",
    "                    img_path = os.path.join(category_path, img_file)\n",
    "                    output_path = os.path.join(output_category_path, img_file.split('.')[0] + '.jpg')\n",
    "\n",
    "                    try:\n",
    "                        with Image.open(img_path) as img:\n",
    "                            # Convert palette images with transparency to RGBA first\n",
    "                            if img.mode == 'P' or img.mode == 'RGBA':\n",
    "                                img = img.convert('RGBA')\n",
    "\n",
    "                            # Resize\n",
    "                            img = ImageOps.fit(img, size, Image.LANCZOS).convert('RGB')\n",
    "                            img.save(output_path, format=format)\n",
    "                    except Exception as e:\n",
    "                        print(f'Error processing {img_file} in {category} folder: {e}')\n",
    "\n",
    "resize(data_dir, output_dir)"
   ]
  },
  {
   "cell_type": "code",
   "execution_count": 14,
   "metadata": {
    "colab": {
     "base_uri": "https://localhost:8080/",
     "height": 17
    },
    "id": "p1d0zrVcYkqq",
    "outputId": "d7888a17-5dd0-4f17-88c9-17ef6822a1b7"
   },
   "outputs": [],
   "source": [
    "# # Zip the output directory and download locally\n",
    "# import shutil\n",
    "# # from google.colab import files\n",
    "\n",
    "# # Path to the output directory where resized images are saved\n",
    "# output_dir = 'output_images'  # Replace with your output directory\n",
    "# zip_file = 'resized_images.zip'\n",
    "\n",
    "# # Compress the output directory into a zip file\n",
    "# shutil.make_archive('resized_images', 'zip', output_dir)\n",
    "\n",
    "# # Download the zip file to your local machine\n",
    "# files.download('resized_images.zip')"
   ]
  },
  {
   "cell_type": "markdown",
   "metadata": {
    "id": "-8PsAl7735ay"
   },
   "source": [
    "### Label Encoding the Categories"
   ]
  },
  {
   "cell_type": "code",
   "execution_count": 15,
   "metadata": {
    "colab": {
     "base_uri": "https://localhost:8080/"
    },
    "id": "ACjmR1UnaQAv",
    "outputId": "d4d42201-9abc-4dde-b232-e1f7142d5c74"
   },
   "outputs": [
    {
     "name": "stdout",
     "output_type": "stream",
     "text": [
      "Category Labels: ['Jade plant (Crassula ovata)' 'Rubber Plant (Ficus elastica)'\n",
      " 'Schefflera' 'Areca Palm (Dypsis lutescens)'\n",
      " 'Asparagus Fern (Asparagus setaceus)'\n",
      " 'Iron Cross begonia (Begonia masoniana)'\n",
      " 'Lily of the valley (Convallaria majalis)'\n",
      " 'Prayer Plant (Maranta leuconeura)' 'Dracaena' 'Aloe Vera'\n",
      " 'Begonia (Begonia spp.)' 'Kalanchoe' 'Lilium (Hemerocallis)'\n",
      " 'Pothos (Ivy arum)' 'Polka Dot Plant (Hypoestes phyllostachya)' 'Yucca'\n",
      " 'Dumb Cane (Dieffenbachia spp.)' 'Daffodils (Narcissus spp.)'\n",
      " 'Elephant Ear (Alocasia spp.)' 'Poinsettia (Euphorbia pulcherrima)'\n",
      " 'Calathea' 'Monstera Deliciosa (Monstera deliciosa)'\n",
      " 'Hyacinth (Hyacinthus orientalis)' 'Sago Palm (Cycas revoluta)'\n",
      " 'Chrysanthemum' 'Ponytail Palm (Beaucarnea recurvata)'\n",
      " 'Anthurium (Anthurium andraeanum)' 'Tradescantia'\n",
      " 'Chinese Money Plant (Pilea peperomioides)'\n",
      " 'Chinese evergreen (Aglaonema)' 'Tulip'\n",
      " 'Parlor Palm (Chamaedorea elegans)' 'Peace lily'\n",
      " 'ZZ Plant (Zamioculcas zamiifolia)' 'Venus Flytrap'\n",
      " 'Christmas Cactus (Schlumbergera bridgesii)'\n",
      " 'Rattlesnake Plant (Calathea lancifolia)' 'Money Tree (Pachira aquatica)'\n",
      " 'Boston Fern (Nephrolepis exaltata)'\n",
      " 'Cast Iron Plant (Aspidistra elatior)' 'Orchid'\n",
      " 'African Violet (Saintpaulia ionantha)' 'Ctenanthe'\n",
      " 'Snake plant (Sanseviera)' 'Bird of Paradise (Strelitzia reginae)'\n",
      " 'English Ivy (Hedera helix)' 'Birds Nest Fern (Asplenium nidus)']\n",
      "Number of Categories: 47\n"
     ]
    }
   ],
   "source": [
    "# Get unique categories\n",
    "category_labels = labels_df['species'].unique()\n",
    "print(\"Category Labels:\", category_labels)\n",
    "print(\"Number of Categories:\", len(category_labels))"
   ]
  },
  {
   "cell_type": "code",
   "execution_count": 16,
   "metadata": {
    "id": "gvs9QtcO5v_k"
   },
   "outputs": [],
   "source": [
    "# Save labels_df to csv for later use\n",
    "labels_df.to_csv('labels_df.csv', index=False)"
   ]
  },
  {
   "cell_type": "markdown",
   "metadata": {
    "id": "776aCrL755kP"
   },
   "source": [
    "### Label Encoding and One-Hot Encoding\n",
    "We have two encoding functions that we can use. Label-encoding is more general, but one-hot is more commonly used for non-ordinal categories. However, because we have 47 classes, one-hot encoding would be computationally more expensive and may lead to the curse of dimensionality."
   ]
  },
  {
   "cell_type": "code",
   "execution_count": 17,
   "metadata": {
    "colab": {
     "base_uri": "https://localhost:8080/",
     "height": 495
    },
    "id": "TZ_cSbDX55BP",
    "outputId": "5a9c991d-e173-4cd9-c17f-4976e93d2a2f"
   },
   "outputs": [
    {
     "name": "stdout",
     "output_type": "stream",
     "text": [
      "Label Encoding Mapping: {'African Violet (Saintpaulia ionantha)': 0, 'Aloe Vera': 1, 'Anthurium (Anthurium andraeanum)': 2, 'Areca Palm (Dypsis lutescens)': 3, 'Asparagus Fern (Asparagus setaceus)': 4, 'Begonia (Begonia spp.)': 5, 'Bird of Paradise (Strelitzia reginae)': 6, 'Birds Nest Fern (Asplenium nidus)': 7, 'Boston Fern (Nephrolepis exaltata)': 8, 'Calathea': 9, 'Cast Iron Plant (Aspidistra elatior)': 10, 'Chinese Money Plant (Pilea peperomioides)': 11, 'Chinese evergreen (Aglaonema)': 12, 'Christmas Cactus (Schlumbergera bridgesii)': 13, 'Chrysanthemum': 14, 'Ctenanthe': 15, 'Daffodils (Narcissus spp.)': 16, 'Dracaena': 17, 'Dumb Cane (Dieffenbachia spp.)': 18, 'Elephant Ear (Alocasia spp.)': 19, 'English Ivy (Hedera helix)': 20, 'Hyacinth (Hyacinthus orientalis)': 21, 'Iron Cross begonia (Begonia masoniana)': 22, 'Jade plant (Crassula ovata)': 23, 'Kalanchoe': 24, 'Lilium (Hemerocallis)': 25, 'Lily of the valley (Convallaria majalis)': 26, 'Money Tree (Pachira aquatica)': 27, 'Monstera Deliciosa (Monstera deliciosa)': 28, 'Orchid': 29, 'Parlor Palm (Chamaedorea elegans)': 30, 'Peace lily': 31, 'Poinsettia (Euphorbia pulcherrima)': 32, 'Polka Dot Plant (Hypoestes phyllostachya)': 33, 'Ponytail Palm (Beaucarnea recurvata)': 34, 'Pothos (Ivy arum)': 35, 'Prayer Plant (Maranta leuconeura)': 36, 'Rattlesnake Plant (Calathea lancifolia)': 37, 'Rubber Plant (Ficus elastica)': 38, 'Sago Palm (Cycas revoluta)': 39, 'Schefflera': 40, 'Snake plant (Sanseviera)': 41, 'Tradescantia': 42, 'Tulip': 43, 'Venus Flytrap': 44, 'Yucca': 45, 'ZZ Plant (Zamioculcas zamiifolia)': 46}\n"
     ]
    },
    {
     "data": {
      "text/plain": [
       "0        23\n",
       "1        23\n",
       "2        23\n",
       "3        23\n",
       "4        23\n",
       "         ..\n",
       "14785     7\n",
       "14786     7\n",
       "14787     7\n",
       "14788     7\n",
       "14789     7\n",
       "Name: encoded_label, Length: 14790, dtype: int64"
      ]
     },
     "execution_count": 17,
     "metadata": {},
     "output_type": "execute_result"
    }
   ],
   "source": [
    "# Label Encoding\n",
    "label_encoder = LabelEncoder()\n",
    "\n",
    "# Fit the encoder and transform the species column\n",
    "labels_df['encoded_label'] = label_encoder.fit_transform(labels_df['species'])\n",
    "\n",
    "# Display the mapping of labels to integers\n",
    "label_mapping = dict(zip(label_encoder.classes_, label_encoder.transform(label_encoder.classes_)))\n",
    "print(\"Label Encoding Mapping:\", label_mapping)\n",
    "\n",
    "labels_df['encoded_label']"
   ]
  },
  {
   "cell_type": "code",
   "execution_count": 18,
   "metadata": {
    "id": "hta_Pho461dY"
   },
   "outputs": [],
   "source": [
    "# Save the label encodings\n",
    "label_mapping = {key: int(value) for key, value in label_mapping.items()}\n",
    "\n",
    "# Save the label mapping for reference\n",
    "import json\n",
    "with open('label_mapping.json', 'w') as f:\n",
    "    json.dump(label_mapping, f)\n"
   ]
  },
  {
   "cell_type": "code",
   "execution_count": 19,
   "metadata": {
    "colab": {
     "base_uri": "https://localhost:8080/",
     "height": 481
    },
    "id": "5-81H-6B7Apl",
    "outputId": "b9850422-a8cd-4555-9671-3725b2ec3e83"
   },
   "outputs": [
    {
     "data": {
      "text/html": [
       "<div>\n",
       "<style scoped>\n",
       "    .dataframe tbody tr th:only-of-type {\n",
       "        vertical-align: middle;\n",
       "    }\n",
       "\n",
       "    .dataframe tbody tr th {\n",
       "        vertical-align: top;\n",
       "    }\n",
       "\n",
       "    .dataframe thead th {\n",
       "        text-align: right;\n",
       "    }\n",
       "</style>\n",
       "<table border=\"1\" class=\"dataframe\">\n",
       "  <thead>\n",
       "    <tr style=\"text-align: right;\">\n",
       "      <th></th>\n",
       "      <th>file_path</th>\n",
       "      <th>encoded_label</th>\n",
       "      <th>species_African Violet (Saintpaulia ionantha)</th>\n",
       "      <th>species_Aloe Vera</th>\n",
       "      <th>species_Anthurium (Anthurium andraeanum)</th>\n",
       "      <th>species_Areca Palm (Dypsis lutescens)</th>\n",
       "      <th>species_Asparagus Fern (Asparagus setaceus)</th>\n",
       "      <th>species_Begonia (Begonia spp.)</th>\n",
       "      <th>species_Bird of Paradise (Strelitzia reginae)</th>\n",
       "      <th>species_Birds Nest Fern (Asplenium nidus)</th>\n",
       "      <th>...</th>\n",
       "      <th>species_Rattlesnake Plant (Calathea lancifolia)</th>\n",
       "      <th>species_Rubber Plant (Ficus elastica)</th>\n",
       "      <th>species_Sago Palm (Cycas revoluta)</th>\n",
       "      <th>species_Schefflera</th>\n",
       "      <th>species_Snake plant (Sanseviera)</th>\n",
       "      <th>species_Tradescantia</th>\n",
       "      <th>species_Tulip</th>\n",
       "      <th>species_Venus Flytrap</th>\n",
       "      <th>species_Yucca</th>\n",
       "      <th>species_ZZ Plant (Zamioculcas zamiifolia)</th>\n",
       "    </tr>\n",
       "  </thead>\n",
       "  <tbody>\n",
       "    <tr>\n",
       "      <th>0</th>\n",
       "      <td>house-plant-species/house_plant_species/Jade p...</td>\n",
       "      <td>23</td>\n",
       "      <td>False</td>\n",
       "      <td>False</td>\n",
       "      <td>False</td>\n",
       "      <td>False</td>\n",
       "      <td>False</td>\n",
       "      <td>False</td>\n",
       "      <td>False</td>\n",
       "      <td>False</td>\n",
       "      <td>...</td>\n",
       "      <td>False</td>\n",
       "      <td>False</td>\n",
       "      <td>False</td>\n",
       "      <td>False</td>\n",
       "      <td>False</td>\n",
       "      <td>False</td>\n",
       "      <td>False</td>\n",
       "      <td>False</td>\n",
       "      <td>False</td>\n",
       "      <td>False</td>\n",
       "    </tr>\n",
       "    <tr>\n",
       "      <th>1</th>\n",
       "      <td>house-plant-species/house_plant_species/Jade p...</td>\n",
       "      <td>23</td>\n",
       "      <td>False</td>\n",
       "      <td>False</td>\n",
       "      <td>False</td>\n",
       "      <td>False</td>\n",
       "      <td>False</td>\n",
       "      <td>False</td>\n",
       "      <td>False</td>\n",
       "      <td>False</td>\n",
       "      <td>...</td>\n",
       "      <td>False</td>\n",
       "      <td>False</td>\n",
       "      <td>False</td>\n",
       "      <td>False</td>\n",
       "      <td>False</td>\n",
       "      <td>False</td>\n",
       "      <td>False</td>\n",
       "      <td>False</td>\n",
       "      <td>False</td>\n",
       "      <td>False</td>\n",
       "    </tr>\n",
       "    <tr>\n",
       "      <th>2</th>\n",
       "      <td>house-plant-species/house_plant_species/Jade p...</td>\n",
       "      <td>23</td>\n",
       "      <td>False</td>\n",
       "      <td>False</td>\n",
       "      <td>False</td>\n",
       "      <td>False</td>\n",
       "      <td>False</td>\n",
       "      <td>False</td>\n",
       "      <td>False</td>\n",
       "      <td>False</td>\n",
       "      <td>...</td>\n",
       "      <td>False</td>\n",
       "      <td>False</td>\n",
       "      <td>False</td>\n",
       "      <td>False</td>\n",
       "      <td>False</td>\n",
       "      <td>False</td>\n",
       "      <td>False</td>\n",
       "      <td>False</td>\n",
       "      <td>False</td>\n",
       "      <td>False</td>\n",
       "    </tr>\n",
       "    <tr>\n",
       "      <th>3</th>\n",
       "      <td>house-plant-species/house_plant_species/Jade p...</td>\n",
       "      <td>23</td>\n",
       "      <td>False</td>\n",
       "      <td>False</td>\n",
       "      <td>False</td>\n",
       "      <td>False</td>\n",
       "      <td>False</td>\n",
       "      <td>False</td>\n",
       "      <td>False</td>\n",
       "      <td>False</td>\n",
       "      <td>...</td>\n",
       "      <td>False</td>\n",
       "      <td>False</td>\n",
       "      <td>False</td>\n",
       "      <td>False</td>\n",
       "      <td>False</td>\n",
       "      <td>False</td>\n",
       "      <td>False</td>\n",
       "      <td>False</td>\n",
       "      <td>False</td>\n",
       "      <td>False</td>\n",
       "    </tr>\n",
       "    <tr>\n",
       "      <th>4</th>\n",
       "      <td>house-plant-species/house_plant_species/Jade p...</td>\n",
       "      <td>23</td>\n",
       "      <td>False</td>\n",
       "      <td>False</td>\n",
       "      <td>False</td>\n",
       "      <td>False</td>\n",
       "      <td>False</td>\n",
       "      <td>False</td>\n",
       "      <td>False</td>\n",
       "      <td>False</td>\n",
       "      <td>...</td>\n",
       "      <td>False</td>\n",
       "      <td>False</td>\n",
       "      <td>False</td>\n",
       "      <td>False</td>\n",
       "      <td>False</td>\n",
       "      <td>False</td>\n",
       "      <td>False</td>\n",
       "      <td>False</td>\n",
       "      <td>False</td>\n",
       "      <td>False</td>\n",
       "    </tr>\n",
       "  </tbody>\n",
       "</table>\n",
       "<p>5 rows × 49 columns</p>\n",
       "</div>"
      ],
      "text/plain": [
       "                                           file_path  encoded_label  \\\n",
       "0  house-plant-species/house_plant_species/Jade p...             23   \n",
       "1  house-plant-species/house_plant_species/Jade p...             23   \n",
       "2  house-plant-species/house_plant_species/Jade p...             23   \n",
       "3  house-plant-species/house_plant_species/Jade p...             23   \n",
       "4  house-plant-species/house_plant_species/Jade p...             23   \n",
       "\n",
       "   species_African Violet (Saintpaulia ionantha)  species_Aloe Vera  \\\n",
       "0                                          False              False   \n",
       "1                                          False              False   \n",
       "2                                          False              False   \n",
       "3                                          False              False   \n",
       "4                                          False              False   \n",
       "\n",
       "   species_Anthurium (Anthurium andraeanum)  \\\n",
       "0                                     False   \n",
       "1                                     False   \n",
       "2                                     False   \n",
       "3                                     False   \n",
       "4                                     False   \n",
       "\n",
       "   species_Areca Palm (Dypsis lutescens)  \\\n",
       "0                                  False   \n",
       "1                                  False   \n",
       "2                                  False   \n",
       "3                                  False   \n",
       "4                                  False   \n",
       "\n",
       "   species_Asparagus Fern (Asparagus setaceus)  \\\n",
       "0                                        False   \n",
       "1                                        False   \n",
       "2                                        False   \n",
       "3                                        False   \n",
       "4                                        False   \n",
       "\n",
       "   species_Begonia (Begonia spp.)  \\\n",
       "0                           False   \n",
       "1                           False   \n",
       "2                           False   \n",
       "3                           False   \n",
       "4                           False   \n",
       "\n",
       "   species_Bird of Paradise (Strelitzia reginae)  \\\n",
       "0                                          False   \n",
       "1                                          False   \n",
       "2                                          False   \n",
       "3                                          False   \n",
       "4                                          False   \n",
       "\n",
       "   species_Birds Nest Fern (Asplenium nidus)  ...  \\\n",
       "0                                      False  ...   \n",
       "1                                      False  ...   \n",
       "2                                      False  ...   \n",
       "3                                      False  ...   \n",
       "4                                      False  ...   \n",
       "\n",
       "   species_Rattlesnake Plant (Calathea lancifolia)  \\\n",
       "0                                            False   \n",
       "1                                            False   \n",
       "2                                            False   \n",
       "3                                            False   \n",
       "4                                            False   \n",
       "\n",
       "   species_Rubber Plant (Ficus elastica)  species_Sago Palm (Cycas revoluta)  \\\n",
       "0                                  False                               False   \n",
       "1                                  False                               False   \n",
       "2                                  False                               False   \n",
       "3                                  False                               False   \n",
       "4                                  False                               False   \n",
       "\n",
       "   species_Schefflera  species_Snake plant (Sanseviera)  species_Tradescantia  \\\n",
       "0               False                             False                 False   \n",
       "1               False                             False                 False   \n",
       "2               False                             False                 False   \n",
       "3               False                             False                 False   \n",
       "4               False                             False                 False   \n",
       "\n",
       "   species_Tulip  species_Venus Flytrap  species_Yucca  \\\n",
       "0          False                  False          False   \n",
       "1          False                  False          False   \n",
       "2          False                  False          False   \n",
       "3          False                  False          False   \n",
       "4          False                  False          False   \n",
       "\n",
       "   species_ZZ Plant (Zamioculcas zamiifolia)  \n",
       "0                                      False  \n",
       "1                                      False  \n",
       "2                                      False  \n",
       "3                                      False  \n",
       "4                                      False  \n",
       "\n",
       "[5 rows x 49 columns]"
      ]
     },
     "execution_count": 19,
     "metadata": {},
     "output_type": "execute_result"
    }
   ],
   "source": [
    "# One-Hot Encoding\n",
    "one_hot_labels = pd.get_dummies(labels_df['species'], prefix='species')\n",
    "\n",
    "# Concatenate the one-hot encoded columns back to the original DataFrame\n",
    "labels_df = pd.concat([labels_df, one_hot_labels], axis=1)\n",
    "\n",
    "# Drop the original 'species' column if it’s no longer needed\n",
    "labels_df = labels_df.drop('species', axis=1)\n",
    "\n",
    "# Display the result\n",
    "labels_df.head()"
   ]
  },
  {
   "cell_type": "code",
   "execution_count": 20,
   "metadata": {
    "id": "SRWwUtOC7fsW"
   },
   "outputs": [],
   "source": [
    "# Save the one-hot encodings\n",
    "labels_df.to_csv('one_hot_encoded_labels.csv', index=False)"
   ]
  },
  {
   "cell_type": "code",
   "execution_count": null,
   "metadata": {
    "id": "iZJqXsJRZM5_"
   },
   "outputs": [],
   "source": []
  },
  {
   "cell_type": "code",
   "execution_count": null,
   "metadata": {
    "id": "fQ8JM_vjU_P5"
   },
   "outputs": [],
   "source": [
    "import os\n",
    "import shutil\n",
    "from sklearn.model_selection import train_test_split\n",
    "\n",
    "ROOT_DIR = 'processed_images'\n",
    "TRAIN_DIR = 'images_train'\n",
    "VAL_DIR = 'images_val'\n",
    "TEST_DIR = 'images_test'\n",
    "SPLIT_RATIO = 0.2\n",
    "TEST_RATIO = 0.15\n",
    "VAL_RATIO = 0.1765\n",
    "RANDOM_STATE = 42\n",
    "\n",
    "os.makedirs(TRAIN_DIR, exist_ok=True)\n",
    "os.makedirs(VAL_DIR, exist_ok=True)\n",
    "os.makedirs(TEST_DIR, exist_ok=True)\n",
    "\n",
    "for class_name in os.listdir(ROOT_DIR):\n",
    "    class_path = os.path.join(ROOT_DIR, class_name)\n",
    "    if os.path.isdir(class_path):\n",
    "        if \".DS_Store\" in class_path:\n",
    "            continue\n",
    "\n",
    "        images = os.listdir(class_path) # gets all images in class\n",
    "\n",
    "        train_val_images, test_images = train_test_split(images, test_size=TEST_RATIO, random_state=RANDOM_STATE)\n",
    "        train_images, val_images = train_test_split(train_val_images, test_size=VAL_RATIO, random_state=RANDOM_STATE)\n",
    "\n",
    "        train_class_dir = os.path.join(TRAIN_DIR, class_name)\n",
    "        val_class_dir = os.path.join(VAL_DIR, class_name)\n",
    "        test_class_dir = os.path.join(TEST_DIR, class_name)\n",
    "        os.makedirs(train_class_dir, exist_ok=True)\n",
    "        os.makedirs(val_class_dir, exist_ok=True)\n",
    "        os.makedirs(test_class_dir, exist_ok=True)\n",
    "\n",
    "        # Copy train images\n",
    "        for img_name in train_images:\n",
    "            shutil.copy(os.path.join(class_path, img_name), os.path.join(train_class_dir, img_name))\n",
    "\n",
    "        # Copy validation images\n",
    "        for img_name in val_images:\n",
    "            shutil.copy(os.path.join(class_path, img_name), os.path.join(val_class_dir, img_name))\n",
    "\n",
    "        # Copy test images\n",
    "        for img_name in test_images:\n",
    "            shutil.copy(os.path.join(class_path, img_name), os.path.join(test_class_dir, img_name))"
   ]
  },
  {
   "cell_type": "code",
   "execution_count": 22,
   "metadata": {
    "id": "fd2nmsRJWeIh"
   },
   "outputs": [],
   "source": [
    "import torch\n",
    "from torch.utils.data import DataLoader, random_split\n",
    "from torchvision import datasets, transforms\n",
    "import torch.nn as nn\n",
    "import torch.nn.functional as F\n",
    "\n",
    "dataset = datasets.ImageFolder(root=data_dir)\n",
    "\n",
    "num_classes = len(dataset.classes)"
   ]
  },
  {
   "cell_type": "code",
   "execution_count": 23,
   "metadata": {
    "id": "GdWpeUBcWhQs"
   },
   "outputs": [],
   "source": [
    "transform = transforms.Compose([\n",
    "    transforms.Resize((224, 224)),                # Resize to the desired size\n",
    "    transforms.ToTensor(),                        # Convert PIL Image to Tensor\n",
    "    transforms.Normalize((0.5,), (0.5,)),         # Normalize (mean=0.5, std=0.5 for grayscale)\n",
    "])"
   ]
  },
  {
   "cell_type": "code",
   "execution_count": 24,
   "metadata": {
    "id": "RBwt6ecwWig0"
   },
   "outputs": [],
   "source": [
    "train_dataset = datasets.ImageFolder(root=TRAIN_DIR, transform=transform)\n",
    "val_dataset = datasets.ImageFolder(root=VAL_DIR, transform=transform)\n",
    "test_dataset = datasets.ImageFolder(root=TEST_DIR, transform=transform)\n",
    "train_loader = DataLoader(train_dataset, batch_size=64, shuffle=True)\n",
    "val_loader = DataLoader(val_dataset, batch_size=64, shuffle=False)\n",
    "test_loader = DataLoader(test_dataset, batch_size=64, shuffle=False)"
   ]
  },
  {
   "cell_type": "code",
   "execution_count": 25,
   "metadata": {
    "id": "I6XeVqMKWknd"
   },
   "outputs": [],
   "source": [
    "def train(model, train_loader, criterion, optimizer, device):\n",
    "    model.train()\n",
    "    running_loss = 0.0\n",
    "    for batch_idx, (images, labels) in enumerate(train_loader):\n",
    "        images, labels = images.to(device), labels.to(device)\n",
    "\n",
    "        # Forward pass\n",
    "        outputs = model(images)\n",
    "        loss = criterion(outputs, labels)\n",
    "\n",
    "        # Backward pass and optimization\n",
    "        optimizer.zero_grad()\n",
    "        loss.backward()\n",
    "        optimizer.step()\n",
    "\n",
    "        running_loss += loss.item() * images.size(0)\n",
    "\n",
    "        # Print progress every few batches\n",
    "        if batch_idx % 10 == 0:\n",
    "            print(f\"Batch {batch_idx}/{len(train_loader)}, Loss: {loss.item():.4f}\")\n",
    "\n",
    "    return running_loss / len(train_loader.dataset)\n",
    "\n",
    "\n",
    "def evaluate(model, test_loader, device):\n",
    "    model.eval()\n",
    "    correct = 0\n",
    "    total = 0\n",
    "    with torch.no_grad():\n",
    "        for images, labels in test_loader:\n",
    "            images, labels = images.to(device), labels.to(device)\n",
    "            outputs = model(images)\n",
    "            _, predicted = torch.max(outputs, 1)\n",
    "            total += labels.size(0)\n",
    "            correct += (predicted == labels).sum().item()\n",
    "    return correct / total"
   ]
  },
  {
   "cell_type": "code",
   "execution_count": 26,
   "metadata": {
    "id": "5UewccwAdync"
   },
   "outputs": [],
   "source": [
    "import torch.nn as nn\n",
    "import torch.nn.functional as F\n",
    "\n",
    "class PlantClassifierCNN(nn.Module):\n",
    "    def __init__(self, num_classes):\n",
    "        super(PlantClassifierCNN, self).__init__()\n",
    "        # Define layers of the CNN\n",
    "        self.conv1 = nn.Conv2d(3, 32, kernel_size=3, stride=1, padding=1)  # 3 input channels for RGB\n",
    "        self.conv2 = nn.Conv2d(32, 64, kernel_size=3, stride=1, padding=1)\n",
    "        self.pool = nn.MaxPool2d(kernel_size=2, stride=2)\n",
    "        self.fc1 = nn.Linear(64 * 56 * 56, 128)  # Adjust based on image size\n",
    "        self.fc2 = nn.Linear(128, num_classes)\n",
    "\n",
    "    def forward(self, x):\n",
    "        x = self.pool(F.relu(self.conv1(x)))\n",
    "        x = self.pool(F.relu(self.conv2(x)))\n",
    "        x = x.view(-1, 64 * 56 * 56)  # Flatten\n",
    "        x = F.relu(self.fc1(x))\n",
    "        x = self.fc2(x)\n",
    "        return x\n",
    "\n",
    "# Initialize model, loss function, and optimizer\n",
    "device = torch.device(\"cuda\" if torch.cuda.is_available() else \"cpu\")\n",
    "model = PlantClassifierCNN(num_classes=num_classes).to(device)\n",
    "criterion = nn.CrossEntropyLoss()\n",
    "optimizer = torch.optim.Adam(model.parameters(), lr=0.001)"
   ]
  },
  {
   "cell_type": "code",
   "execution_count": 27,
   "metadata": {
    "colab": {
     "base_uri": "https://localhost:8080/"
    },
    "id": "5W1jnxQ5ds8F",
    "outputId": "a6bb1dc7-2275-4b39-8904-c851757c858e"
   },
   "outputs": [
    {
     "name": "stdout",
     "output_type": "stream",
     "text": [
      "Batch 0/167, Loss: 3.8636\n",
      "Batch 10/167, Loss: 3.8696\n",
      "Batch 20/167, Loss: 3.8264\n",
      "Batch 30/167, Loss: 3.8293\n",
      "Batch 40/167, Loss: 3.8594\n",
      "Batch 50/167, Loss: 3.7293\n",
      "Batch 60/167, Loss: 3.8098\n",
      "Batch 70/167, Loss: 3.7769\n",
      "Batch 80/167, Loss: 3.7560\n",
      "Batch 90/167, Loss: 3.5810\n",
      "Batch 100/167, Loss: 3.6334\n",
      "Batch 110/167, Loss: 3.7423\n",
      "Batch 120/167, Loss: 3.6191\n",
      "Batch 130/167, Loss: 3.6332\n",
      "Batch 140/167, Loss: 3.5511\n",
      "Batch 150/167, Loss: 3.6769\n",
      "Batch 160/167, Loss: 3.5501\n",
      "Epoch [1/2], Loss: 3.9020, Test Accuracy: 0.0870\n",
      "Batch 0/167, Loss: 3.5658\n",
      "Batch 10/167, Loss: 3.5257\n",
      "Batch 20/167, Loss: 3.3762\n",
      "Batch 30/167, Loss: 3.2695\n",
      "Batch 40/167, Loss: 3.3924\n",
      "Batch 50/167, Loss: 3.3137\n",
      "Batch 60/167, Loss: 3.2719\n",
      "Batch 70/167, Loss: 3.3123\n",
      "Batch 80/167, Loss: 3.2257\n",
      "Batch 90/167, Loss: 3.3731\n",
      "Batch 100/167, Loss: 2.9765\n",
      "Batch 110/167, Loss: 3.1187\n",
      "Batch 120/167, Loss: 3.1899\n",
      "Batch 130/167, Loss: 3.0829\n",
      "Batch 140/167, Loss: 3.1663\n",
      "Batch 150/167, Loss: 3.1456\n",
      "Batch 160/167, Loss: 3.0145\n",
      "Epoch [2/2], Loss: 3.2063, Test Accuracy: 0.1825\n"
     ]
    }
   ],
   "source": [
    "num_epochs = 2\n",
    "\n",
    "for epoch in range(num_epochs):\n",
    "    train_loss = train(model, train_loader, criterion, optimizer, device)\n",
    "    test_accuracy = evaluate(model, test_loader, device)\n",
    "    print(f\"Epoch [{epoch+1}/{num_epochs}], Loss: {train_loss:.4f}, Test Accuracy: {test_accuracy:.4f}\", flush=True)"
   ]
  },
  {
   "cell_type": "code",
   "execution_count": 28,
   "metadata": {},
   "outputs": [],
   "source": [
    "test_accuracy = evaluate(model, test_loader, device)"
   ]
  },
  {
   "cell_type": "code",
   "execution_count": 29,
   "metadata": {},
   "outputs": [
    {
     "data": {
      "text/plain": [
       "0.18250780901383312"
      ]
     },
     "execution_count": 29,
     "metadata": {},
     "output_type": "execute_result"
    }
   ],
   "source": [
    "test_accuracy"
   ]
  },
  {
   "cell_type": "code",
   "execution_count": 31,
   "metadata": {
    "id": "KCxi3PZRdux2"
   },
   "outputs": [
    {
     "data": {
      "text/plain": [
       "0.24558602554470324"
      ]
     },
     "execution_count": 31,
     "metadata": {},
     "output_type": "execute_result"
    }
   ],
   "source": [
    "train_accuracy = evaluate(model, train_loader, device)\n",
    "train_accuracy"
   ]
  },
  {
   "cell_type": "code",
   "execution_count": 32,
   "metadata": {},
   "outputs": [
    {
     "data": {
      "text/plain": [
       "0.24558602554470324"
      ]
     },
     "execution_count": 32,
     "metadata": {},
     "output_type": "execute_result"
    }
   ],
   "source": [
    "validation_accuracy = evaluate(model, val_loader, device)\n",
    "validation_accuracy"
   ]
  }
 ],
 "metadata": {
  "colab": {
   "provenance": []
  },
  "kernelspec": {
   "display_name": "base",
   "language": "python",
   "name": "python3"
  },
  "language_info": {
   "codemirror_mode": {
    "name": "ipython",
    "version": 3
   },
   "file_extension": ".py",
   "mimetype": "text/x-python",
   "name": "python",
   "nbconvert_exporter": "python",
   "pygments_lexer": "ipython3",
   "version": "3.11.7"
  }
 },
 "nbformat": 4,
 "nbformat_minor": 0
}
